{
 "cells": [
  {
   "cell_type": "markdown",
   "id": "canadian-reporter",
   "metadata": {},
   "source": [
    "# Qiskit config"
   ]
  },
  {
   "cell_type": "code",
   "execution_count": 1,
   "id": "stylish-integer",
   "metadata": {},
   "outputs": [],
   "source": [
    "from qiskit import IBMQ, QuantumCircuit, ClassicalRegister, QuantumRegister, execute, Aer, transpile\n",
    "from qiskit.test.mock import FakeMontreal, FakeMumbai\n",
    "\n",
    "IBMQ.load_account()\n",
    "provider = IBMQ.get_provider(hub='ibm-q-research') # 'ibm-q'\n",
    "\n",
    "backend_0  = Aer.get_backend('qasm_simulator') \n",
    "backend_1  = provider.get_backend('ibmq_qasm_simulator')\n",
    "backend_2  = provider.get_backend('ibmq_santiago')\n",
    "backend_3  = provider.get_backend('ibmq_manila')\n",
    "backend_4  = provider.get_backend('ibmq_casablanca')\n",
    "backend_5  = provider.get_backend('ibmq_jakarta')\n",
    "backend_6  = FakeMontreal()\n",
    "backend_7  = FakeMumbai()\n",
    "\n",
    "shots      = 8192"
   ]
  },
  {
   "cell_type": "code",
   "execution_count": 5,
   "id": "moved-heritage",
   "metadata": {},
   "outputs": [],
   "source": [
    "\"\"\"\n",
    "    Select the backends that will be compared.\n",
    "\"\"\"\n",
    "#backends = [ backend_0 ]\n",
    "#backends = [ backend_0, backend_1 ]\n",
    "#backends = [ backend_2, backend_3 ]\n",
    "backends = [ backend_4, backend_5 ]\n",
    "#backends = [ backend_6, backend_7 ]\n",
    "#backends = [ backend_2, backend_3, backend_4, backend_5 ]"
   ]
  },
  {
   "cell_type": "markdown",
   "id": "downtown-analysis",
   "metadata": {},
   "source": [
    "# Experiment procedures"
   ]
  },
  {
   "cell_type": "code",
   "execution_count": 6,
   "id": "fleet-albania",
   "metadata": {},
   "outputs": [],
   "source": [
    "from qclib.state_preparation.bidirectional.state_tree_preparation import Amplitude\n",
    "\n",
    "import qclib.state_preparation.bdsp as bd\n",
    "\n",
    "def measurement(circuit, q, c):\n",
    "    circuit.measure(q, c)\n",
    "\n",
    "    job = execute(circuit, backend, shots=shots, optimization_level=3)\n",
    "    \n",
    "    counts = job.result().get_counts(circuit)\n",
    "    v = sum(counts.values())\n",
    "    \n",
    "    counts2 = {}\n",
    "    for m in range(2**len(q)):\n",
    "        pattern = '{:0{}b}'.format(m, n)\n",
    "        if pattern in counts:\n",
    "            counts2[pattern] = counts[pattern]\n",
    "        else:\n",
    "            counts2[pattern] = 0.0\n",
    "            \n",
    "    return { key : value/v for (key, value) in counts2.items() }\n",
    "    \n",
    "def bidirectional_experiment(circuit, input_state, s=None):\n",
    "    state = [Amplitude(i, a) for i, a in enumerate(input_state)]\n",
    "\n",
    "    q_output, state_tree, angle_tree = bd.initialize(circuit, state, s)\n",
    "\n",
    "    n = int(np.log2(len(input_state)))\n",
    "    c = ClassicalRegister(n)\n",
    "    circuit.barrier()\n",
    "    circuit.add_register(c)\n",
    "\n",
    "    return measurement(circuit, q_output, c)\n"
   ]
  },
  {
   "cell_type": "markdown",
   "id": "another-decision",
   "metadata": {},
   "source": [
    "# Experiment"
   ]
  },
  {
   "cell_type": "code",
   "execution_count": 7,
   "id": "painted-clone",
   "metadata": {},
   "outputs": [
    {
     "name": "stdout",
     "output_type": "stream",
     "text": [
      "n = 3\n",
      "\n",
      "Input vector probabilities (|x|^2):\n",
      "{'000': 0.03, '001': 0.06, '010': 0.15000000000000002, '011': 0.049999999999999996, '100': 0.1, '101': 0.29999999999999993, '110': 0.19999999999999998, '111': 0.10999999999999999}\n",
      "\n",
      "s = 1\n",
      "\n",
      "\tExperiments using ibmq_casablanca backend, with 7 qubits available.\n",
      "\tIter: 0\n",
      "\t {'000': 0.1336669921875, '001': 0.14013671875, '010': 0.10693359375, '011': 0.1297607421875, '100': 0.1268310546875, '101': 0.134765625, '110': 0.1148681640625, '111': 0.113037109375}\n",
      "\tIter: 1\n",
      "\t {'000': 0.1334228515625, '001': 0.1351318359375, '010': 0.1260986328125, '011': 0.11767578125, '100': 0.138916015625, '101': 0.11767578125, '110': 0.1217041015625, '111': 0.109375}\n",
      "\tIter: 2\n",
      "\t {'000': 0.0872802734375, '001': 0.105224609375, '010': 0.0947265625, '011': 0.096923828125, '100': 0.16015625, '101': 0.1507568359375, '110': 0.1561279296875, '111': 0.1488037109375}\n",
      "\tIter: 3\n",
      "\t {'000': 0.089599609375, '001': 0.0963134765625, '010': 0.0867919921875, '011': 0.1005859375, '100': 0.161376953125, '101': 0.1728515625, '110': 0.139404296875, '111': 0.153076171875}\n",
      "\tIter: 4\n",
      "\t {'000': 0.1422119140625, '001': 0.14404296875, '010': 0.095458984375, '011': 0.095458984375, '100': 0.1654052734375, '101': 0.152099609375, '110': 0.1072998046875, '111': 0.0980224609375}\n",
      "\tIter: 5\n",
      "\t {'000': 0.1630859375, '001': 0.142333984375, '010': 0.1204833984375, '011': 0.12060546875, '100': 0.1329345703125, '101': 0.1231689453125, '110': 0.098388671875, '111': 0.0989990234375}\n",
      "\tIter: 6\n",
      "\t {'000': 0.1285400390625, '001': 0.127685546875, '010': 0.1146240234375, '011': 0.121337890625, '100': 0.12890625, '101': 0.129638671875, '110': 0.120361328125, '111': 0.12890625}\n",
      "\tIter: 7\n",
      "\t {'000': 0.1400146484375, '001': 0.1358642578125, '010': 0.1414794921875, '011': 0.1463623046875, '100': 0.10546875, '101': 0.1103515625, '110': 0.107666015625, '111': 0.11279296875}\n",
      "\tIter: 8\n",
      "\t {'000': 0.119140625, '001': 0.114013671875, '010': 0.0787353515625, '011': 0.079833984375, '100': 0.185302734375, '101': 0.1768798828125, '110': 0.126220703125, '111': 0.119873046875}\n",
      "\tIter: 9\n",
      "\t {'000': 0.15087890625, '001': 0.1517333984375, '010': 0.0899658203125, '011': 0.0950927734375, '100': 0.1649169921875, '101': 0.1595458984375, '110': 0.0897216796875, '111': 0.09814453125}\n",
      "\n",
      "\tExperiments using ibmq_jakarta backend, with 7 qubits available.\n",
      "\tIter: 0\n",
      "\t {'000': 0.09423828125, '001': 0.08935546875, '010': 0.1064453125, '011': 0.119384765625, '100': 0.193603515625, '101': 0.1279296875, '110': 0.13720703125, '111': 0.1318359375}\n",
      "\tIter: 1\n",
      "\t {'000': 0.097900390625, '001': 0.1060791015625, '010': 0.1090087890625, '011': 0.0926513671875, '100': 0.1767578125, '101': 0.183349609375, '110': 0.1322021484375, '111': 0.10205078125}\n",
      "\tIter: 2\n",
      "\t {'000': 0.0858154296875, '001': 0.089111328125, '010': 0.1224365234375, '011': 0.1007080078125, '100': 0.1466064453125, '101': 0.150634765625, '110': 0.1705322265625, '111': 0.1341552734375}\n",
      "\tIter: 3\n",
      "\t {'000': 0.09814453125, '001': 0.084228515625, '010': 0.09814453125, '011': 0.0867919921875, '100': 0.185302734375, '101': 0.156982421875, '110': 0.1474609375, '111': 0.1429443359375}\n",
      "\tIter: 4\n",
      "\t {'000': 0.084716796875, '001': 0.096923828125, '010': 0.111328125, '011': 0.105712890625, '100': 0.1456298828125, '101': 0.199462890625, '110': 0.1312255859375, '111': 0.125}\n",
      "\tIter: 5\n",
      "\t {'000': 0.10400390625, '001': 0.1036376953125, '010': 0.108154296875, '011': 0.1002197265625, '100': 0.1552734375, '101': 0.158935546875, '110': 0.141357421875, '111': 0.12841796875}\n",
      "\tIter: 6\n",
      "\t {'000': 0.12060546875, '001': 0.1192626953125, '010': 0.1201171875, '011': 0.1312255859375, '100': 0.1436767578125, '101': 0.14697265625, '110': 0.1015625, '111': 0.1165771484375}\n",
      "\tIter: 7\n",
      "\t {'000': 0.0968017578125, '001': 0.092041015625, '010': 0.103759765625, '011': 0.09814453125, '100': 0.1656494140625, '101': 0.1746826171875, '110': 0.1390380859375, '111': 0.1298828125}\n",
      "\tIter: 8\n",
      "\t {'000': 0.0960693359375, '001': 0.0875244140625, '010': 0.1024169921875, '011': 0.08154296875, '100': 0.142822265625, '101': 0.177734375, '110': 0.1600341796875, '111': 0.15185546875}\n",
      "\tIter: 9\n",
      "\t {'000': 0.0860595703125, '001': 0.0858154296875, '010': 0.095703125, '011': 0.1024169921875, '100': 0.143310546875, '101': 0.1605224609375, '110': 0.1480712890625, '111': 0.1781005859375}\n",
      "\n",
      "s = 2\n",
      "\n",
      "\tExperiments using ibmq_casablanca backend, with 7 qubits available.\n",
      "\tIter: 0\n",
      "\t {'000': 0.119873046875, '001': 0.1136474609375, '010': 0.185791015625, '011': 0.1539306640625, '100': 0.0887451171875, '101': 0.115478515625, '110': 0.0958251953125, '111': 0.126708984375}\n",
      "\tIter: 1\n",
      "\t {'000': 0.1595458984375, '001': 0.158935546875, '010': 0.09326171875, '011': 0.0831298828125, '100': 0.1610107421875, '101': 0.177490234375, '110': 0.0804443359375, '111': 0.086181640625}\n",
      "\tIter: 2\n",
      "\t {'000': 0.1131591796875, '001': 0.1221923828125, '010': 0.117431640625, '011': 0.1431884765625, '100': 0.1177978515625, '101': 0.1361083984375, '110': 0.1014404296875, '111': 0.148681640625}\n",
      "\tIter: 3\n",
      "\t {'000': 0.1678466796875, '001': 0.1331787109375, '010': 0.17822265625, '011': 0.1475830078125, '100': 0.090576171875, '101': 0.0809326171875, '110': 0.1094970703125, '111': 0.0921630859375}\n",
      "\tIter: 4\n",
      "\t {'000': 0.1968994140625, '001': 0.1279296875, '010': 0.1331787109375, '011': 0.1046142578125, '100': 0.09521484375, '101': 0.134765625, '110': 0.09619140625, '111': 0.1112060546875}\n",
      "\tIter: 5\n",
      "\t {'000': 0.10595703125, '001': 0.095703125, '010': 0.1131591796875, '011': 0.1004638671875, '100': 0.1446533203125, '101': 0.1375732421875, '110': 0.1470947265625, '111': 0.1553955078125}\n",
      "\tIter: 6\n",
      "\t {'000': 0.189453125, '001': 0.081298828125, '010': 0.189697265625, '011': 0.0760498046875, '100': 0.138427734375, '101': 0.1199951171875, '110': 0.116943359375, '111': 0.088134765625}\n",
      "\tIter: 7\n",
      "\t {'000': 0.1749267578125, '001': 0.1375732421875, '010': 0.1824951171875, '011': 0.1390380859375, '100': 0.09765625, '101': 0.088623046875, '110': 0.0966796875, '111': 0.0830078125}\n",
      "\tIter: 8\n",
      "\t {'000': 0.1400146484375, '001': 0.1142578125, '010': 0.1444091796875, '011': 0.1302490234375, '100': 0.1182861328125, '101': 0.109375, '110': 0.1207275390625, '111': 0.1226806640625}\n",
      "\tIter: 9\n",
      "\t {'000': 0.1558837890625, '001': 0.16259765625, '010': 0.143310546875, '011': 0.1513671875, '100': 0.1121826171875, '101': 0.1236572265625, '110': 0.086669921875, '111': 0.0643310546875}\n",
      "\n",
      "\tExperiments using ibmq_jakarta backend, with 7 qubits available.\n",
      "\tIter: 0\n",
      "\t {'000': 0.115966796875, '001': 0.0897216796875, '010': 0.111083984375, '011': 0.0682373046875, '100': 0.16552734375, '101': 0.1986083984375, '110': 0.138427734375, '111': 0.1124267578125}\n",
      "\tIter: 1\n",
      "\t {'000': 0.112548828125, '001': 0.0885009765625, '010': 0.1168212890625, '011': 0.0733642578125, '100': 0.1590576171875, '101': 0.199462890625, '110': 0.1334228515625, '111': 0.1168212890625}\n",
      "\tIter: 2\n",
      "\t {'000': 0.1241455078125, '001': 0.0745849609375, '010': 0.125244140625, '011': 0.0662841796875, '100': 0.185791015625, '101': 0.19140625, '110': 0.1195068359375, '111': 0.113037109375}\n",
      "\tIter: 3\n",
      "\t {'000': 0.1092529296875, '001': 0.0745849609375, '010': 0.1146240234375, '011': 0.0743408203125, '100': 0.139892578125, '101': 0.1583251953125, '110': 0.156982421875, '111': 0.1719970703125}\n",
      "\tIter: 4\n",
      "\t {'000': 0.1185302734375, '001': 0.0684814453125, '010': 0.1141357421875, '011': 0.0670166015625, '100': 0.20849609375, '101': 0.1556396484375, '110': 0.1611328125, '111': 0.1065673828125}\n",
      "\tIter: 5\n",
      "\t {'000': 0.0950927734375, '001': 0.0697021484375, '010': 0.1129150390625, '011': 0.0572509765625, '100': 0.2103271484375, '101': 0.2119140625, '110': 0.13720703125, '111': 0.1055908203125}\n",
      "\tIter: 6\n",
      "\t {'000': 0.1004638671875, '001': 0.068603515625, '010': 0.1181640625, '011': 0.0809326171875, '100': 0.14892578125, '101': 0.20751953125, '110': 0.1435546875, '111': 0.1318359375}\n",
      "\tIter: 7\n",
      "\t {'000': 0.1011962890625, '001': 0.0633544921875, '010': 0.1099853515625, '011': 0.051513671875, '100': 0.180419921875, '101': 0.201416015625, '110': 0.1390380859375, '111': 0.153076171875}\n",
      "\tIter: 8\n",
      "\t {'000': 0.1019287109375, '001': 0.0751953125, '010': 0.1444091796875, '011': 0.0849609375, '100': 0.1480712890625, '101': 0.179931640625, '110': 0.1429443359375, '111': 0.12255859375}\n",
      "\tIter: 9\n",
      "\t {'000': 0.0906982421875, '001': 0.08251953125, '010': 0.138427734375, '011': 0.08837890625, '100': 0.154052734375, '101': 0.1751708984375, '110': 0.1534423828125, '111': 0.1173095703125}\n",
      "\n",
      "s = 3\n",
      "\n",
      "\tExperiments using ibmq_casablanca backend, with 7 qubits available.\n",
      "\tIter: 0\n"
     ]
    },
    {
     "name": "stdout",
     "output_type": "stream",
     "text": [
      "\t {'000': 0.06201171875, '001': 0.086669921875, '010': 0.1951904296875, '011': 0.0604248046875, '100': 0.11962890625, '101': 0.2701416015625, '110': 0.100830078125, '111': 0.1051025390625}\n",
      "\tIter: 1\n",
      "\t {'000': 0.0458984375, '001': 0.1060791015625, '010': 0.1453857421875, '011': 0.0423583984375, '100': 0.1075439453125, '101': 0.2882080078125, '110': 0.1663818359375, '111': 0.09814453125}\n",
      "\tIter: 2\n",
      "\t {'000': 0.0465087890625, '001': 0.102294921875, '010': 0.1351318359375, '011': 0.0455322265625, '100': 0.1046142578125, '101': 0.271240234375, '110': 0.1864013671875, '111': 0.1082763671875}\n",
      "\tIter: 3\n",
      "\t {'000': 0.0421142578125, '001': 0.10107421875, '010': 0.1402587890625, '011': 0.0438232421875, '100': 0.1065673828125, '101': 0.290283203125, '110': 0.17333984375, '111': 0.1025390625}\n",
      "\tIter: 4\n",
      "\t {'000': 0.0491943359375, '001': 0.110595703125, '010': 0.145751953125, '011': 0.0450439453125, '100': 0.0955810546875, '101': 0.2916259765625, '110': 0.159912109375, '111': 0.102294921875}\n",
      "\tIter: 5\n",
      "\t {'000': 0.05078125, '001': 0.10693359375, '010': 0.176513671875, '011': 0.06640625, '100': 0.1265869140625, '101': 0.223388671875, '110': 0.14990234375, '111': 0.0994873046875}\n",
      "\tIter: 6\n",
      "\t {'000': 0.0697021484375, '001': 0.082763671875, '010': 0.1788330078125, '011': 0.0728759765625, '100': 0.120361328125, '101': 0.2572021484375, '110': 0.1119384765625, '111': 0.1063232421875}\n",
      "\tIter: 7\n",
      "\t {'000': 0.0504150390625, '001': 0.11962890625, '010': 0.1260986328125, '011': 0.04248046875, '100': 0.1065673828125, '101': 0.30322265625, '110': 0.1571044921875, '111': 0.094482421875}\n",
      "\tIter: 8\n",
      "\t {'000': 0.0526123046875, '001': 0.1124267578125, '010': 0.1375732421875, '011': 0.0484619140625, '100': 0.0970458984375, '101': 0.305419921875, '110': 0.1551513671875, '111': 0.09130859375}\n",
      "\tIter: 9\n",
      "\t {'000': 0.0592041015625, '001': 0.1029052734375, '010': 0.17578125, '011': 0.068603515625, '100': 0.1151123046875, '101': 0.22021484375, '110': 0.1710205078125, '111': 0.087158203125}\n",
      "\n",
      "\tExperiments using ibmq_jakarta backend, with 7 qubits available.\n",
      "\tIter: 0\n",
      "\t {'000': 0.0531005859375, '001': 0.0872802734375, '010': 0.0721435546875, '011': 0.034423828125, '100': 0.13720703125, '101': 0.347412109375, '110': 0.1805419921875, '111': 0.087890625}\n",
      "\tIter: 1\n",
      "\t {'000': 0.0653076171875, '001': 0.095947265625, '010': 0.0908203125, '011': 0.0380859375, '100': 0.100830078125, '101': 0.302490234375, '110': 0.1644287109375, '111': 0.14208984375}\n",
      "\tIter: 2\n",
      "\t {'000': 0.053466796875, '001': 0.0711669921875, '010': 0.100830078125, '011': 0.0413818359375, '100': 0.1446533203125, '101': 0.3157958984375, '110': 0.140869140625, '111': 0.1318359375}\n",
      "\tIter: 3\n",
      "\t {'000': 0.0599365234375, '001': 0.08837890625, '010': 0.0997314453125, '011': 0.0355224609375, '100': 0.1075439453125, '101': 0.3021240234375, '110': 0.1666259765625, '111': 0.14013671875}\n",
      "\tIter: 4\n",
      "\t {'000': 0.0540771484375, '001': 0.066162109375, '010': 0.091064453125, '011': 0.0430908203125, '100': 0.1419677734375, '101': 0.3116455078125, '110': 0.151123046875, '111': 0.140869140625}\n",
      "\tIter: 5\n",
      "\t {'000': 0.062255859375, '001': 0.07177734375, '010': 0.08251953125, '011': 0.040771484375, '100': 0.14794921875, '101': 0.322998046875, '110': 0.142333984375, '111': 0.12939453125}\n",
      "\tIter: 6\n",
      "\t {'000': 0.058837890625, '001': 0.0919189453125, '010': 0.09521484375, '011': 0.0419921875, '100': 0.1025390625, '101': 0.2998046875, '110': 0.1636962890625, '111': 0.14599609375}\n",
      "\tIter: 7\n",
      "\t {'000': 0.063720703125, '001': 0.093994140625, '010': 0.0665283203125, '011': 0.0369873046875, '100': 0.136474609375, '101': 0.344970703125, '110': 0.1710205078125, '111': 0.0863037109375}\n",
      "\tIter: 8\n",
      "\t {'000': 0.049072265625, '001': 0.06591796875, '010': 0.0931396484375, '011': 0.041015625, '100': 0.14501953125, '101': 0.317138671875, '110': 0.14892578125, '111': 0.1397705078125}\n",
      "\tIter: 9\n",
      "\t {'000': 0.056884765625, '001': 0.0919189453125, '010': 0.061279296875, '011': 0.0277099609375, '100': 0.1400146484375, '101': 0.3531494140625, '110': 0.1798095703125, '111': 0.0892333984375}\n"
     ]
    }
   ],
   "source": [
    "import numpy as np\n",
    "\n",
    "\"\"\"\n",
    "    Random complex input vector.\n",
    "\"\"\"\n",
    "#n = 3\n",
    "#N = 2**n\n",
    "#rng = np.random.default_rng(42)\n",
    "#input_state = ((1.0 - 0.01) * rng.random(N) + 0.01) + ((1.0 - 0.01) * rng.random(N) + 0.01) * 1j\n",
    "#input_state = input_state/np.linalg.norm(input_state)\n",
    "\"\"\"\"\"\"\n",
    "\"\"\"\n",
    "    Fixed real 8- and 16-dim input vector.\n",
    "\"\"\"\n",
    "input_state = [np.sqrt(0.03), np.sqrt(0.06), np.sqrt(0.15), np.sqrt(0.05), np.sqrt(0.1), np.sqrt(0.3), np.sqrt(0.2), np.sqrt(0.11) ]\n",
    "#input_state = [np.sqrt(0.01), np.sqrt(0.02), np.sqrt(0.04), np.sqrt(0.02), np.sqrt(0.07), np.sqrt(0.08), np.sqrt(0.04), np.sqrt(0.01), np.sqrt(0.08), np.sqrt(0.02), np.sqrt(0.21), np.sqrt(0.09), np.sqrt(0.12), np.sqrt(0.08), np.sqrt(0.05), np.sqrt(0.06) ]\n",
    "N = len(input_state)\n",
    "n = int(np.log2(N))\n",
    "\"\"\"\"\"\"\n",
    "\n",
    "print('n =', n)\n",
    "\n",
    "ideal = np.power(np.abs(input_state),2)\n",
    "print('\\nInput vector probabilities (|x|^2):')\n",
    "print({'{:0{}b}'.format(p, n) : a for p, a in enumerate(ideal)})\n",
    "\n",
    "maes  = {}\n",
    "probs = {}\n",
    "for s in range(1, n+1):\n",
    "    print('\\ns =', s)\n",
    "    backend_probs = {}\n",
    "    backend_maes = {}\n",
    "    for j, backend in enumerate(backends):\n",
    "        backend_name = backend.name()\n",
    "        backend_config = backend.configuration()\n",
    "        backend_qubits = backend_config.n_qubits\n",
    "\n",
    "        backend_probs[backend_name] = []\n",
    "\n",
    "        print('\\n\\tExperiments using {0} backend, with {1} qubits available.'.format(backend_name, backend_qubits))\n",
    "\n",
    "        for k in range(10):\n",
    "            print('\\tIter:', k)\n",
    "            circuit = QuantumCircuit()\n",
    "            prob = bidirectional_experiment(circuit, input_state, s)\n",
    "            backend_probs[backend_name].append([val for key, val in prob.items()])\n",
    "            print('\\t', dict(sorted(prob.items())) )\n",
    "\n",
    "        backend_maes[backend_name] = np.sum(np.abs(np.mean(backend_probs[backend_name],axis=0)-ideal))/len(ideal)\n",
    "        \n",
    "    probs[s] = backend_probs\n",
    "    maes[s]  = backend_maes\n"
   ]
  },
  {
   "cell_type": "markdown",
   "id": "damaged-statistics",
   "metadata": {},
   "source": [
    "# Mean Absolute Error"
   ]
  },
  {
   "cell_type": "code",
   "execution_count": 8,
   "id": "comic-circuit",
   "metadata": {},
   "outputs": [
    {
     "name": "stdout",
     "output_type": "stream",
     "text": [
      "s = 1\n",
      "\tibmq_jakarta : MAE = 0.059414672851562496\n",
      "\tibmq_casablanca : MAE = 0.070880126953125\n",
      "s = 2\n",
      "\tibmq_jakarta : MAE = 0.04972839355468749\n",
      "\tibmq_casablanca : MAE = 0.0691259765625\n",
      "s = 3\n",
      "\tibmq_casablanca : MAE = 0.02129882812499998\n",
      "\tibmq_jakarta : MAE = 0.028909301757812512\n"
     ]
    }
   ],
   "source": [
    "for s, s_mae in maes.items():\n",
    "    print('s = {0}'.format(s))\n",
    "    for backend, mae in dict(sorted(s_mae.items(), key=lambda item: item[1])).items():\n",
    "        print('\\t{0} : MAE = {1}'.format(backend, mae))"
   ]
  },
  {
   "cell_type": "markdown",
   "id": "western-forest",
   "metadata": {},
   "source": [
    "# Chart Data"
   ]
  },
  {
   "cell_type": "code",
   "execution_count": 9,
   "id": "victorian-sleeve",
   "metadata": {},
   "outputs": [
    {
     "name": "stdout",
     "output_type": "stream",
     "text": [
      "s = 1\n",
      "\tibmq_casablanca\n",
      "\t[0.12878418\t0.12924805\t0.10552979\t0.11036377\t0.14702148\t0.14277344\n",
      "\t0.11817627\t0.11810303]\n",
      "\tibmq_jakarta\n",
      "\t[0.09643555\t0.09539795\t0.10775146\t0.10187988\t0.15986328\t0.1637207\n",
      "\t0.14086914\t0.13408203]\n",
      "s = 2\n",
      "\tibmq_casablanca\n",
      "\t[0.15235596\t0.12473145\t0.1480957\t\t0.12296143\t0.11645508\t0.1223999\n",
      "\t0.10515137\t0.10784912]\n",
      "\tibmq_jakarta\n",
      "\t[0.10698242\t0.0755249\t\t0.12058105\t0.07122803\t0.17005615\t0.18793945\n",
      "\t0.14256592\t0.12512207]\n",
      "s = 3\n",
      "\tibmq_casablanca\n",
      "\t[0.05284424\t0.10313721\t0.15565186\t0.05360107\t0.10996094\t0.27209473\n",
      "\t0.15319824\t0.09951172]\n",
      "\tibmq_jakarta\n",
      "\t[0.05766602\t0.08244629\t0.08532715\t0.03809814\t0.13041992\t0.32175293\n",
      "\t0.1609375\t\t0.12335205]\n"
     ]
    }
   ],
   "source": [
    "for s, s_probs in probs.items():\n",
    "    print('s = {0}'.format(s))\n",
    "    for backend, backend_probs in s_probs.items():\n",
    "        print('\\t{0}'.format(backend))\n",
    "        print('\\t{0}'.format(str(np.mean(backend_probs, axis=0)).replace(' ', '\\t')))"
   ]
  },
  {
   "cell_type": "markdown",
   "id": "nuclear-bobby",
   "metadata": {},
   "source": [
    "# Plot Charts"
   ]
  },
  {
   "cell_type": "code",
   "execution_count": 10,
   "id": "auburn-token",
   "metadata": {},
   "outputs": [
    {
     "name": "stdout",
     "output_type": "stream",
     "text": [
      "s = 1\n"
     ]
    },
    {
     "data": {
      "image/png": "[encoded data removed]",
      "text/plain": [
       "<Figure size 864x576 with 1 Axes>"
      ]
     },
     "metadata": {
      "needs_background": "light"
     },
     "output_type": "display_data"
    },
    {
     "name": "stdout",
     "output_type": "stream",
     "text": [
      "s = 2\n"
     ]
    },
    {
     "data": {
      "image/png": "[encoded data removed]",
      "text/plain": [
       "<Figure size 864x576 with 1 Axes>"
      ]
     },
     "metadata": {
      "needs_background": "light"
     },
     "output_type": "display_data"
    },
    {
     "name": "stdout",
     "output_type": "stream",
     "text": [
      "s = 3\n"
     ]
    },
    {
     "data": {
      "image/png": "[encoded data removed]",
      "text/plain": [
       "<Figure size 864x576 with 1 Axes>"
      ]
     },
     "metadata": {
      "needs_background": "light"
     },
     "output_type": "display_data"
    }
   ],
   "source": [
    "import numpy as np\n",
    "import matplotlib.pyplot as plt\n",
    "    \n",
    "def plot(labels, averages, stds, xticks):\n",
    "    n_bars = len(xticks)\n",
    "    n_labels = len(labels)\n",
    "    \n",
    "    b_width = (1/n_labels)*0.75\n",
    "    fig = plt.subplots(figsize = (12, 8))\n",
    "\n",
    "    x_pos = np.arange(n_bars)\n",
    "    for i, avg in enumerate(averages):\n",
    "        plt.bar(x_pos, avg, yerr = stds[i], width = b_width, label = labels[i],\n",
    "                align='center', alpha=0.9, ecolor='black', capsize=b_width*40)\n",
    "        \n",
    "        x_pos = [x + b_width for x in x_pos]\n",
    "    \n",
    "    plt.ylabel('probability', fontsize = 15)\n",
    "    plt.xticks([x + b_width*(n_labels-1)/2 for x in range(n_bars)], xticks, fontsize=12, rotation=45)\n",
    "    plt.grid(b=True, axis='y')\n",
    "    plt.yticks(fontsize=12)\n",
    "    plt.legend(fontsize=12)\n",
    "    plt.tight_layout()\n",
    "    #plt.savefig('bar_plot_with_error_bars.png')\n",
    "    plt.show()\n",
    "\n",
    "def plot_result(ideal, probs):\n",
    "    labels   = [ key for key, val in probs.items() ]\n",
    "    averages = [ np.mean(prob, axis=0) for key, prob in probs.items() ]\n",
    "    stds     = [ np.std(prob , axis=0) for key, prob in probs.items() ]\n",
    "    xticks   = ['{:0{}b}'.format(p, n) for p, a in enumerate(input_state)]\n",
    "\n",
    "    labels.insert(0, 'ideal')\n",
    "    averages.insert(0, ideal)\n",
    "    stds.insert(0, [0]*len(ideal))\n",
    "\n",
    "    plot(labels, averages, stds, xticks)\n",
    "\n",
    "for s in range(1, n+1):\n",
    "    print('s =', s)\n",
    "    plot_result(ideal, probs[s])"
   ]
  },
  {
   "cell_type": "code",
   "execution_count": null,
   "id": "formal-mozambique",
   "metadata": {},
   "outputs": [],
   "source": []
  }
 ],
 "metadata": {
  "kernelspec": {
   "display_name": "Python 3",
   "language": "python",
   "name": "python3"
  },
  "language_info": {
   "codemirror_mode": {
    "name": "ipython",
    "version": 3
   },
   "file_extension": ".py",
   "mimetype": "text/x-python",
   "name": "python",
   "nbconvert_exporter": "python",
   "pygments_lexer": "ipython3",
   "version": "3.7.10"
  }
 },
 "nbformat": 4,
 "nbformat_minor": 5
}
