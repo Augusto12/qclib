{
 "cells": [
  {
   "cell_type": "code",
   "execution_count": 52,
   "id": "stone-management",
   "metadata": {},
   "outputs": [],
   "source": [
    "from qiskit import QuantumCircuit, QuantumRegister\n",
    "from qclib.gate.majority import operate"
   ]
  },
  {
   "cell_type": "code",
   "execution_count": 57,
   "id": "involved-sector",
   "metadata": {},
   "outputs": [
    {
     "name": "stdout",
     "output_type": "stream",
     "text": [
      "                           \n",
      "controls_0: ──■─────────■──\n",
      "              │         │  \n",
      "controls_1: ──┼────■────■──\n",
      "            ┌─┴─┐┌─┴─┐┌─┴─┐\n",
      "  target_0: ┤ X ├┤ X ├┤ X ├\n",
      "            └───┘└───┘└───┘\n",
      "                           \n",
      "controls_0: ──■────■───────\n",
      "              │    │       \n",
      "controls_1: ──■────┼────■──\n",
      "              │    │    │  \n",
      "controls_2: ──┼────■────■──\n",
      "            ┌─┴─┐┌─┴─┐┌─┴─┐\n",
      "  target_0: ┤ X ├┤ X ├┤ X ├\n",
      "            └───┘└───┘└───┘\n",
      "                                               \n",
      "controls_0: ──■────■────■───────────────────■──\n",
      "              │    │    │                   │  \n",
      "controls_1: ──■────┼────┼────■────■─────────■──\n",
      "              │    │    │    │    │         │  \n",
      "controls_2: ──┼────■────┼────■────┼────■────■──\n",
      "              │    │    │    │    │    │    │  \n",
      "controls_3: ──┼────┼────■────┼────■────■────■──\n",
      "            ┌─┴─┐┌─┴─┐┌─┴─┐┌─┴─┐┌─┴─┐┌─┴─┐┌─┴─┐\n",
      "  target_0: ┤ X ├┤ X ├┤ X ├┤ X ├┤ X ├┤ X ├┤ X ├\n",
      "            └───┘└───┘└───┘└───┘└───┘└───┘└───┘\n"
     ]
    }
   ],
   "source": [
    "for n in range(2, 5):\n",
    "    circuit = QuantumCircuit()\n",
    "    controls = QuantumRegister(n, name='controls')\n",
    "    target = QuantumRegister(1, name='target')\n",
    "    circuit.add_register(controls)\n",
    "    circuit.add_register(target)\n",
    "\n",
    "    operate(circuit, controls, target)\n",
    "\n",
    "    print(circuit)"
   ]
  },
  {
   "cell_type": "code",
   "execution_count": null,
   "id": "talented-jason",
   "metadata": {},
   "outputs": [],
   "source": []
  }
 ],
 "metadata": {
  "kernelspec": {
   "display_name": "Python 3",
   "language": "python",
   "name": "python3"
  },
  "language_info": {
   "codemirror_mode": {
    "name": "ipython",
    "version": 3
   },
   "file_extension": ".py",
   "mimetype": "text/x-python",
   "name": "python",
   "nbconvert_exporter": "python",
   "pygments_lexer": "ipython3",
   "version": "3.7.10"
  }
 },
 "nbformat": 4,
 "nbformat_minor": 5
}
