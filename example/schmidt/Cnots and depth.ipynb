{
 "cells": [
  {
   "cell_type": "markdown",
   "id": "canadian-reporter",
   "metadata": {},
   "source": [
    "# Qiskit config"
   ]
  },
  {
   "cell_type": "code",
   "execution_count": 1,
   "id": "stylish-integer",
   "metadata": {},
   "outputs": [],
   "source": [
    "from qiskit import IBMQ, QuantumCircuit, ClassicalRegister, QuantumRegister, execute, Aer, transpile\n",
    "\n",
    "backend = Aer.get_backend('qasm_simulator')\n",
    "\n",
    "shots   = 8192\n",
    "backend_name = backend.name()\n",
    "backend_config = backend.configuration()\n",
    "backend_qubits = backend_config.n_qubits"
   ]
  },
  {
   "cell_type": "markdown",
   "id": "another-decision",
   "metadata": {},
   "source": [
    "# Experiment"
   ]
  },
  {
   "cell_type": "code",
   "execution_count": 4,
   "id": "painted-clone",
   "metadata": {},
   "outputs": [
    {
     "name": "stdout",
     "output_type": "stream",
     "text": [
      "\n",
      "low rank approx. = 1\n",
      "\n",
      "n = 3\n",
      "\t isometry\t CNOTs = 1\t depth = 3\n",
      "\t unitary\t CNOTs = 4\t depth = 9\n",
      "\n",
      "n = 4\n",
      "\t isometry\t CNOTs = 2\t depth = 3\n",
      "\t unitary\t CNOTs = 9\t depth = 11\n",
      "\n",
      "n = 5\n",
      "\t isometry\t CNOTs = 5\t depth = 9\n",
      "\t unitary\t CNOTs = 30\t depth = 53\n",
      "\n",
      "n = 6\n",
      "\t isometry\t CNOTs = 8\t depth = 9\n",
      "\t unitary\t CNOTs = 54\t depth = 57\n",
      "\n",
      "n = 7\n",
      "\t isometry\t CNOTs = 13\t depth = 11\n",
      "\t unitary\t CNOTs = 150\t depth = 243\n",
      "\n",
      "n = 8\n",
      "\t isometry\t CNOTs = 18\t depth = 11\n",
      "\t unitary\t CNOTs = 253\t depth = 247\n",
      "\n",
      "n = 9\n",
      "\t isometry\t CNOTs = 78\t depth = 121\n",
      "\t unitary\t CNOTs = 661\t depth = 1039\n",
      "\n",
      "n = 10\n",
      "\t isometry\t CNOTs = 174\t depth = 165\n",
      "\t unitary\t CNOTs = 1090\t depth = 1080\n",
      "\n",
      "n = 11\n",
      "\t isometry\t CNOTs = 147\t depth = 165\n",
      "\t unitary\t CNOTs = 2770\t depth = 4345\n",
      "\n",
      "n = 12\n",
      "\t isometry\t CNOTs = 108\t depth = 57\n",
      "\t unitary\t CNOTs = 4474\t depth = 4346\n"
     ]
    }
   ],
   "source": [
    "import numpy as np\n",
    "import sys\n",
    "sys.path.append('../../')\n",
    "from qclib.state_preparation.schmidt import initialize\n",
    "from qclib.state_preparation.schmidt import initialize_original\n",
    "\n",
    "r = 1\n",
    "print('\\nlow rank approx. =', r)\n",
    "\n",
    "result = {}\n",
    "for n in range(3, 13):\n",
    "    N = 2**n\n",
    "    print('\\nn =', n)\n",
    "        \n",
    "    input_state = ((1.0 - 0.01) * np.random.rand(N) + 0.01) + ((1.0 - 0.01) * np.random.rand(N) + 0.01) * 1j\n",
    "    input_state = input_state/np.linalg.norm(input_state)\n",
    "\n",
    "    result[n] = []\n",
    "    \n",
    "    circuit1 = initialize(input_state, low_rank = r)\n",
    "    circuit2 = initialize_original(input_state)\n",
    "    \n",
    "    transpiled_circuit1 = transpile(circuit1, basis_gates=['u1','u2','u3', 'cx'], optimization_level=3)\n",
    "    transpiled_circuit2 = transpile(circuit2, basis_gates=['u1','u2','u3', 'cx'], optimization_level=3)\n",
    "    n_cx1 = transpiled_circuit1.count_ops()['cx']\n",
    "    n_dp1 = transpiled_circuit1.depth()\n",
    "    n_cx2 = transpiled_circuit2.count_ops()['cx']\n",
    "    n_dp2 = transpiled_circuit2.depth()\n",
    "\n",
    "    result[n].append(['isometry', n_cx1, n_dp1])\n",
    "    result[n].append(['unitary', n_cx2, n_dp2])\n",
    "\n",
    "    print('\\t {0}\\t CNOTs = {1}\\t depth = {2}'.format('isometry', n_cx1, n_dp1))\n",
    "    print('\\t {0}\\t CNOTs = {1}\\t depth = {2}'.format('unitary', n_cx2, n_dp2))\n",
    "        "
   ]
  },
  {
   "cell_type": "code",
   "execution_count": null,
   "id": "separated-pound",
   "metadata": {},
   "outputs": [],
   "source": []
  }
 ],
 "metadata": {
  "kernelspec": {
   "display_name": "Python 3",
   "language": "python",
   "name": "python3"
  },
  "language_info": {
   "codemirror_mode": {
    "name": "ipython",
    "version": 3
   },
   "file_extension": ".py",
   "mimetype": "text/x-python",
   "name": "python",
   "nbconvert_exporter": "python",
   "pygments_lexer": "ipython3",
   "version": "3.7.10"
  }
 },
 "nbformat": 4,
 "nbformat_minor": 5
}
