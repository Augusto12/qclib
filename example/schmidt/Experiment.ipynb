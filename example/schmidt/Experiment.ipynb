{
 "cells": [
  {
   "cell_type": "markdown",
   "id": "1902d6e4",
   "metadata": {},
   "source": [
    "# Qiskit config"
   ]
  },
  {
   "cell_type": "code",
   "execution_count": 1,
   "id": "1644302a",
   "metadata": {},
   "outputs": [],
   "source": [
    "from qiskit import IBMQ, QuantumCircuit, ClassicalRegister, QuantumRegister, execute, Aer, transpile\n",
    "from qiskit.test.mock import FakeMontreal, FakeMumbai\n",
    "\n",
    "IBMQ.load_account()\n",
    "provider = IBMQ.get_provider(hub='ibm-q-research') # 'ibm-q'"
   ]
  },
  {
   "cell_type": "code",
   "execution_count": 16,
   "id": "df3b39a2",
   "metadata": {},
   "outputs": [],
   "source": [
    "backend_0  = Aer.get_backend('qasm_simulator') \n",
    "backend_1  = provider.get_backend('ibmq_qasm_simulator')\n",
    "backend_2  = provider.get_backend('ibmq_santiago')\n",
    "backend_3  = provider.get_backend('ibmq_manila')\n",
    "backend_4  = provider.get_backend('ibmq_casablanca')\n",
    "backend_5  = provider.get_backend('ibmq_jakarta')\n",
    "backend_6  = provider.get_backend('ibm_lagos')\n",
    "\n",
    "backend_7  = FakeMontreal()\n",
    "backend_8  = FakeMumbai()\n",
    "\n",
    "shots      = 8192\n",
    "\n",
    "\"\"\"\n",
    "    Select the backends that will be compared.\n",
    "\"\"\"\n",
    "\n",
    "#backends = [ backend_0 ]\n",
    "#backends = [ backend_1 ]\n",
    "#backends = [ backend_6 ]\n",
    "backends = [ backend_4 ]\n",
    "#backends = [ backend_1, backend_5 ]\n",
    "#backends = [ backend_0, backend_1 ]\n",
    "#backends = [ backend_2, backend_3 ]\n",
    "#backends = [ backend_4, backend_5 ]\n",
    "#backends = [ backend_6, backend_7 ]\n",
    "#backends = [ backend_2, backend_3, backend_4, backend_5 ]"
   ]
  },
  {
   "cell_type": "markdown",
   "id": "bea253d4",
   "metadata": {},
   "source": [
    "# Experiment procedures"
   ]
  },
  {
   "cell_type": "code",
   "execution_count": 17,
   "id": "850a5d20",
   "metadata": {},
   "outputs": [],
   "source": [
    "import numpy as np\n",
    "import sys\n",
    "sys.path.append('../../')\n",
    "from qclib.state_preparation.schmidt import initialize\n",
    "\n",
    "def measurement(circuit, c):\n",
    "    n = len(c)\n",
    "    circuit.measure(list(range(n)), c)\n",
    "\n",
    "    job = execute(circuit, backend, shots=shots) # , optimization_level=3)\n",
    "    \n",
    "    counts = job.result().get_counts(circuit)\n",
    "    v = sum(counts.values())\n",
    "    \n",
    "    counts2 = {}\n",
    "    for m in range(2**n):\n",
    "        pattern = '{:0{}b}'.format(m, n)\n",
    "        if pattern in counts:\n",
    "            counts2[pattern] = counts[pattern]\n",
    "        else:\n",
    "            counts2[pattern] = 0.0\n",
    "            \n",
    "    return { key : value/v for (key, value) in counts2.items() }\n",
    "    \n",
    "def run_circuit(state, r=0):\n",
    "    circuit = initialize(state, r)\n",
    "\n",
    "    n = int(np.log2(len(input_state)))\n",
    "    c = ClassicalRegister(n)\n",
    "    circuit.barrier()\n",
    "    circuit.add_register(c)\n",
    "\n",
    "    prob = measurement(circuit, c)\n",
    "    \n",
    "    return np.array([val for key, val in prob.items()])"
   ]
  },
  {
   "cell_type": "markdown",
   "id": "dd5fe03b",
   "metadata": {},
   "source": [
    "# Experiment"
   ]
  },
  {
   "cell_type": "code",
   "execution_count": 18,
   "id": "aa009e0e",
   "metadata": {},
   "outputs": [],
   "source": [
    "reps = 10\n",
    "min_n = 4\n",
    "max_n = 4"
   ]
  },
  {
   "cell_type": "code",
   "execution_count": 19,
   "id": "7685086f",
   "metadata": {},
   "outputs": [],
   "source": [
    "states = {}\n",
    "\n",
    "# Random complex input vector.\n",
    "rnd = np.random.RandomState(42)\n",
    "for n in range(min_n, max_n+1):\n",
    "    state = rnd.rand(2**n) + rnd.rand(2**n) * 1j\n",
    "    states[2**n] = state/np.linalg.norm(state)\n",
    "    \n",
    "# Fixed real 8- and 16-dim input vector.\n",
    "#states[8] = [np.sqrt(0.03), np.sqrt(0.06), np.sqrt(0.15), np.sqrt(0.05), np.sqrt(0.1), np.sqrt(0.3), np.sqrt(0.2), np.sqrt(0.11) ]\n",
    "#states[16] = input_state = [np.sqrt(0.01), np.sqrt(0.02), np.sqrt(0.04), np.sqrt(0.02), np.sqrt(0.07), np.sqrt(0.08), np.sqrt(0.04), np.sqrt(0.01), np.sqrt(0.08), np.sqrt(0.02), np.sqrt(0.21), np.sqrt(0.09), np.sqrt(0.12), np.sqrt(0.08), np.sqrt(0.05), np.sqrt(0.06) ]\n"
   ]
  },
  {
   "cell_type": "code",
   "execution_count": 20,
   "id": "4b3aa6b4",
   "metadata": {},
   "outputs": [
    {
     "name": "stdout",
     "output_type": "stream",
     "text": [
      "n = 4\n",
      "input state:\n",
      "[0.12860182+0.10446439j 0.32643656+0.18017998j 0.25133689+0.14831232j\n",
      " 0.20555493+0.09999622j 0.05357044+0.21008535j 0.05356216+0.04789651j\n",
      " 0.01994355+0.10031057j 0.2974096 +0.12579373j 0.2063984 +0.15659585j\n",
      " 0.24312327+0.26959743j 0.00706788+0.06855984j 0.33302752+0.17656715j\n",
      " 0.28582689+0.20341103j 0.0729086 +0.01594918j 0.06243129+0.20860615j\n",
      " 0.06297364+0.05855104j]\n",
      "\n",
      "Experiments using ibmq_casablanca backend, with 7 qubits available.\n",
      "\trank = 4  run: 0  1  2  3  4  5  6  7  8  9  \n",
      "\trank = 2  run: 0  1  2  3  4  5  6  7  8  9  \n",
      "\trank = 1  run: 0  1  2  3  4  5  6  7  8  9  \n"
     ]
    }
   ],
   "source": [
    "ideals = {}\n",
    "result = {}\n",
    "for n in range(min_n, max_n+1):\n",
    "    print('n =', n)\n",
    "    \n",
    "    input_state = states[2**n]\n",
    "    print('input state:')\n",
    "    print(input_state)\n",
    "    \n",
    "    ideals[n] = np.power(np.abs(input_state), 2)\n",
    "\n",
    "    result[n] = {}\n",
    "    for j, backend in enumerate(backends):\n",
    "        backend_name = backend.name()\n",
    "        backend_config = backend.configuration()\n",
    "        backend_qubits = backend_config.n_qubits\n",
    "\n",
    "        print('\\nExperiments using {0} backend, with {1} qubits available.'.format(backend_name, backend_qubits))\n",
    "\n",
    "        result[n][backend_name] = {}\n",
    "\n",
    "        for r in [2**m for m in range(n//2+1)][::-1]: # iso:{1<=rank<2**(n_qubits//2)};uni:{rank=2**(n_qubits//2)}\n",
    "        #for r in [2**n//2, 1]: # iso:{1<=rank<2**(n_qubits//2)};uni:{rank=2**(n_qubits//2)}\n",
    "            print('\\trank =', r, ' run: ', end='')\n",
    "\n",
    "            probs = []\n",
    "            for i in range(reps):\n",
    "                print(i, ' ', end='')\n",
    "                probs.append( run_circuit(input_state, r) )\n",
    "            print('')\n",
    "            result[n][backend_name][r] = probs\n",
    "\n"
   ]
  },
  {
   "cell_type": "markdown",
   "id": "1a5b4dc2",
   "metadata": {},
   "source": [
    "# Print Results"
   ]
  },
  {
   "cell_type": "code",
   "execution_count": 21,
   "id": "068be22b",
   "metadata": {},
   "outputs": [
    {
     "name": "stdout",
     "output_type": "stream",
     "text": [
      "n = 4\n",
      "\n",
      "backend = ibmq_casablanca\n",
      "\trank = 4 MAE = 0.033937318524193814\n",
      "\trank = 2 MAE = 0.033342485861981186\n",
      "\trank = 1 MAE = 0.04015660745272414\n"
     ]
    }
   ],
   "source": [
    "def print_result(ideal, probs):\n",
    "    n = int(np.log2(len(ideal)))\n",
    "    averages = { key: np.mean(prob, axis=0) for key, prob in probs.items() }\n",
    "\n",
    "    for r, prob in averages.items():\n",
    "        mae = np.sum( np.abs( prob - ideal ) ) / 2**n\n",
    "        print('\\trank =', r, 'MAE =', mae)\n",
    "        #print('\\tIdeal probabilities:')\n",
    "        #print('\\t', ideal)\n",
    "        #print('\\tAverage probabilities:')\n",
    "        #print('\\t', prob)\n",
    "    \n",
    "for n in range(min_n, max_n+1):\n",
    "    print('n =', n)\n",
    "    for j, backend in enumerate(backends):\n",
    "        print('\\nbackend =', backend.name())\n",
    "        print_result(ideals[n], result[n][backend.name()])\n"
   ]
  },
  {
   "cell_type": "markdown",
   "id": "7ebeb677",
   "metadata": {},
   "source": [
    "# Plot Charts"
   ]
  },
  {
   "cell_type": "code",
   "execution_count": 22,
   "id": "d848ed60",
   "metadata": {},
   "outputs": [
    {
     "name": "stdout",
     "output_type": "stream",
     "text": [
      "n = 4\n",
      "backend = ibmq_casablanca\n"
     ]
    },
    {
     "data": {
      "image/png": "[encoded data removed]",
      "text/plain": [
       "<Figure size 864x576 with 1 Axes>"
      ]
     },
     "metadata": {
      "needs_background": "light"
     },
     "output_type": "display_data"
    }
   ],
   "source": [
    "import numpy as np\n",
    "import matplotlib.pyplot as plt\n",
    "    \n",
    "def plot(labels, averages, stds, xticks):\n",
    "    n_bars = len(xticks)\n",
    "    n_labels = len(labels)\n",
    "    \n",
    "    b_width = (1/n_labels)*0.75\n",
    "    fig = plt.subplots(figsize = (12, 8))\n",
    "\n",
    "    x_pos = np.arange(n_bars)\n",
    "    for i, avg in enumerate(averages):\n",
    "        plt.bar(x_pos, avg, yerr = stds[i], width = b_width, label = labels[i],\n",
    "                align='center', alpha=0.9, ecolor='black', capsize=b_width*40)\n",
    "        \n",
    "        x_pos = [x + b_width for x in x_pos]\n",
    "    \n",
    "    plt.ylabel('probability', fontsize = 15)\n",
    "    plt.xticks([x + b_width*(n_labels-1)/2 for x in range(n_bars)], xticks, fontsize=12, rotation=45)\n",
    "    plt.grid(b=True, axis='y')\n",
    "    plt.yticks(fontsize=12)\n",
    "    plt.legend(fontsize=12)\n",
    "    plt.tight_layout()\n",
    "    #plt.savefig('bar_plot_with_error_bars.png')\n",
    "    plt.show()\n",
    "\n",
    "def plot_result(ideal, probs):\n",
    "    n = int(np.log2(len(ideal)))\n",
    "    labels   = [ \"rank=\"+str(key) for key, val in probs.items() ]\n",
    "    averages = [ np.mean(prob, axis=0) for key, prob in probs.items() ]\n",
    "    stds     = [ np.std(prob , axis=0) for key, prob in probs.items() ]\n",
    "    xticks   = ['{:0{}b}'.format(p, n) for p in range(2**n)]\n",
    "\n",
    "    labels.insert(0, 'ideal')\n",
    "    averages.insert(0, ideal)\n",
    "    stds.insert(0, [0]*len(ideal))\n",
    "\n",
    "    plot(labels, averages, stds, xticks)\n",
    "    \n",
    "for n in range(min_n, max_n+1):\n",
    "    print('n =', n)\n",
    "    for j, backend in enumerate(backends):\n",
    "        print('backend =', backend.name())\n",
    "        plot_result(ideals[n], result[n][backend.name()])"
   ]
  },
  {
   "cell_type": "code",
   "execution_count": null,
   "id": "477529d4",
   "metadata": {},
   "outputs": [],
   "source": []
  },
  {
   "cell_type": "code",
   "execution_count": null,
   "id": "3fdfa046",
   "metadata": {},
   "outputs": [],
   "source": []
  }
 ],
 "metadata": {
  "kernelspec": {
   "display_name": "Python 3 (ipykernel)",
   "language": "python",
   "name": "python3"
  },
  "language_info": {
   "codemirror_mode": {
    "name": "ipython",
    "version": 3
   },
   "file_extension": ".py",
   "mimetype": "text/x-python",
   "name": "python",
   "nbconvert_exporter": "python",
   "pygments_lexer": "ipython3",
   "version": "3.7.11"
  }
 },
 "nbformat": 4,
 "nbformat_minor": 5
}
